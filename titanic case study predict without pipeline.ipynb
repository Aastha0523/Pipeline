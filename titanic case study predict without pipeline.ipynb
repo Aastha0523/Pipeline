{
 "cells": [
  {
   "cell_type": "code",
   "execution_count": 7,
   "id": "4e9eb407",
   "metadata": {},
   "outputs": [],
   "source": [
    "import warnings\n",
    "warnings.filterwarnings(\"ignore\")\n",
    "import pickle\n",
    "import numpy as np"
   ]
  },
  {
   "cell_type": "code",
   "execution_count": 8,
   "id": "1bbc9ccd",
   "metadata": {},
   "outputs": [],
   "source": [
    "ohe_sex = pickle.load(open('models/ohe_sex.pkl', 'rb'))\n",
    "ohe_embarked = pickle.load(open('models/ohe_embarked.pkl', 'rb'))\n",
    "clf = pickle.load(open('models/clf.pkl', 'rb'))"
   ]
  },
  {
   "cell_type": "code",
   "execution_count": 9,
   "id": "abacbbd9",
   "metadata": {},
   "outputs": [],
   "source": [
    "# Assume user input\n",
    "# Pclass/gender/age/SibSp/Parch/Fare/Embarked\n",
    "test_input = np.array([2, 'male', 31.0, 0, 0, 10.5, 'S'], dtype = object).reshape(1,7)"
   ]
  },
  {
   "cell_type": "code",
   "execution_count": 10,
   "id": "7ccf770a",
   "metadata": {},
   "outputs": [
    {
     "data": {
      "text/plain": [
       "array([[2, 'male', 31.0, 0, 0, 10.5, 'S']], dtype=object)"
      ]
     },
     "execution_count": 10,
     "metadata": {},
     "output_type": "execute_result"
    }
   ],
   "source": [
    "test_input"
   ]
  },
  {
   "cell_type": "code",
   "execution_count": 11,
   "id": "24921cc7",
   "metadata": {},
   "outputs": [],
   "source": [
    "test_input_sex = ohe_sex.transform(test_input[:,1].reshape(1,1))"
   ]
  },
  {
   "cell_type": "code",
   "execution_count": 12,
   "id": "21069e4c",
   "metadata": {},
   "outputs": [],
   "source": [
    "test_input_embarked = ohe_embarked.transform(test_input[:,-1].reshape(1,1))"
   ]
  },
  {
   "cell_type": "code",
   "execution_count": 13,
   "id": "267ca99a",
   "metadata": {},
   "outputs": [],
   "source": [
    "test_input_age = test_input[:,2].reshape(1,1)"
   ]
  },
  {
   "cell_type": "code",
   "execution_count": 16,
   "id": "384e80e4",
   "metadata": {},
   "outputs": [],
   "source": [
    "test_input_transformed = np.concatenate((test_input[:,[0,3,4,5]], test_input_age, test_input_sex, test_input_embarked), axis = 1)"
   ]
  },
  {
   "cell_type": "code",
   "execution_count": 17,
   "id": "654800af",
   "metadata": {},
   "outputs": [
    {
     "data": {
      "text/plain": [
       "(1, 10)"
      ]
     },
     "execution_count": 17,
     "metadata": {},
     "output_type": "execute_result"
    }
   ],
   "source": [
    "test_input_transformed.shape"
   ]
  },
  {
   "cell_type": "code",
   "execution_count": 19,
   "id": "894c8577",
   "metadata": {},
   "outputs": [
    {
     "data": {
      "text/plain": [
       "array([1], dtype=int64)"
      ]
     },
     "execution_count": 19,
     "metadata": {},
     "output_type": "execute_result"
    }
   ],
   "source": [
    "clf.predict(test_input_transformed)"
   ]
  },
  {
   "cell_type": "code",
   "execution_count": null,
   "id": "ac09b98a",
   "metadata": {},
   "outputs": [],
   "source": []
  }
 ],
 "metadata": {
  "kernelspec": {
   "display_name": "Python 3 (ipykernel)",
   "language": "python",
   "name": "python3"
  },
  "language_info": {
   "codemirror_mode": {
    "name": "ipython",
    "version": 3
   },
   "file_extension": ".py",
   "mimetype": "text/x-python",
   "name": "python",
   "nbconvert_exporter": "python",
   "pygments_lexer": "ipython3",
   "version": "3.10.5"
  }
 },
 "nbformat": 4,
 "nbformat_minor": 5
}
